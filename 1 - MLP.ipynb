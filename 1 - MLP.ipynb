{
 "cells": [
  {
   "cell_type": "markdown",
   "metadata": {},
   "source": [
    "### 1) Pre-processing of the data."
   ]
  },
  {
   "cell_type": "code",
   "execution_count": 12,
   "metadata": {},
   "outputs": [],
   "source": [
    "import pandas as pd\n",
    "from sklearn.model_selection import train_test_split, cross_val_score, StratifiedKFold\n",
    "from sklearn.metrics import accuracy_score, precision_score, recall_score, f1_score, confusion_matrix, roc_curve, auc\n",
    "from sklearn.pipeline import Pipeline\n",
    "from sklearn.neural_network import MLPClassifier\n",
    "\n",
    "# Load & Pre-process\n",
    "df = pd.read_csv(\"JGM.csv\")\n",
    "df = df.drop(columns=[\"team_nr\", \"tijd\"])\n",
    "df[\"gehaald\"] = df[\"gehaald\"].map({1: 0, 2: 1})\n",
    "\n",
    "X = df.drop(\"gehaald\", axis=1)\n",
    "y = df[\"gehaald\"]\n",
    "\n",
    "# Split\n",
    "X_train, X_test, y_train, y_test = train_test_split(X, y, test_size=0.2, random_state=42, stratify=y)"
   ]
  },
  {
   "cell_type": "markdown",
   "metadata": {},
   "source": [
    "### 2) Baseline model."
   ]
  },
  {
   "cell_type": "code",
   "execution_count": 13,
   "metadata": {},
   "outputs": [
    {
     "name": "stderr",
     "output_type": "stream",
     "text": [
      "c:\\Users\\Freark\\miniconda3\\envs\\ML\\Lib\\site-packages\\sklearn\\neural_network\\_multilayer_perceptron.py:691: ConvergenceWarning: Stochastic Optimizer: Maximum iterations (200) reached and the optimization hasn't converged yet.\n",
      "  warnings.warn(\n"
     ]
    }
   ],
   "source": [
    "# Train\n",
    "model = MLPClassifier(random_state=42)\n",
    "\n",
    "pipe_base = Pipeline([(\"model\", model)])\n",
    "pipe_base.fit(X_train, y_train)\n",
    "y_pred = pipe_base.predict(X_test)"
   ]
  },
  {
   "cell_type": "code",
   "execution_count": 14,
   "metadata": {},
   "outputs": [
    {
     "name": "stdout",
     "output_type": "stream",
     "text": [
      "Test scores:\n",
      "Accuracy: 0.8135593220338984\n",
      "precision_score: 0.8095238095238095\n",
      "recall_score: 0.918918918918919\n",
      "f1_score: 0.8607594936708861\n",
      "---\n",
      "[[14  8]\n",
      " [ 3 34]]\n",
      "---\n",
      "Cross-val scores:\n"
     ]
    },
    {
     "name": "stderr",
     "output_type": "stream",
     "text": [
      "c:\\Users\\Freark\\miniconda3\\envs\\ML\\Lib\\site-packages\\sklearn\\neural_network\\_multilayer_perceptron.py:691: ConvergenceWarning: Stochastic Optimizer: Maximum iterations (200) reached and the optimization hasn't converged yet.\n",
      "  warnings.warn(\n",
      "c:\\Users\\Freark\\miniconda3\\envs\\ML\\Lib\\site-packages\\sklearn\\neural_network\\_multilayer_perceptron.py:691: ConvergenceWarning: Stochastic Optimizer: Maximum iterations (200) reached and the optimization hasn't converged yet.\n",
      "  warnings.warn(\n",
      "c:\\Users\\Freark\\miniconda3\\envs\\ML\\Lib\\site-packages\\sklearn\\neural_network\\_multilayer_perceptron.py:691: ConvergenceWarning: Stochastic Optimizer: Maximum iterations (200) reached and the optimization hasn't converged yet.\n",
      "  warnings.warn(\n",
      "c:\\Users\\Freark\\miniconda3\\envs\\ML\\Lib\\site-packages\\sklearn\\neural_network\\_multilayer_perceptron.py:691: ConvergenceWarning: Stochastic Optimizer: Maximum iterations (200) reached and the optimization hasn't converged yet.\n",
      "  warnings.warn(\n"
     ]
    },
    {
     "name": "stdout",
     "output_type": "stream",
     "text": [
      "[0.76315789 0.86842105 0.81012658 0.74358974 0.69565217]\n",
      "0.7761894894299378 - 0.05895288390127686\n"
     ]
    },
    {
     "name": "stderr",
     "output_type": "stream",
     "text": [
      "c:\\Users\\Freark\\miniconda3\\envs\\ML\\Lib\\site-packages\\sklearn\\neural_network\\_multilayer_perceptron.py:691: ConvergenceWarning: Stochastic Optimizer: Maximum iterations (200) reached and the optimization hasn't converged yet.\n",
      "  warnings.warn(\n"
     ]
    }
   ],
   "source": [
    "# Eval\n",
    "\n",
    "print(\"Test scores:\")\n",
    "print(\"Accuracy:\", accuracy_score(y_test, y_pred))\n",
    "print(\"precision_score:\", precision_score(y_test, y_pred))\n",
    "print(\"recall_score:\", recall_score(y_test, y_pred))\n",
    "print(\"f1_score:\", f1_score(y_test, y_pred))\n",
    "print(\"---\")\n",
    "print(confusion_matrix(y_test, y_pred))\n",
    "print(\"---\")\n",
    "print(\"Cross-val scores:\")\n",
    "\n",
    "cv = StratifiedKFold(n_splits=5, shuffle=True, random_state=42)\n",
    "cv_scores = cross_val_score(pipe_base, X, y, cv=cv, scoring=\"f1\")\n",
    "\n",
    "print(cv_scores)\n",
    "print(f\"{cv_scores.mean()} - {cv_scores.std()}\")"
   ]
  },
  {
   "cell_type": "markdown",
   "metadata": {},
   "source": [
    "### 3) MinMax-Scaler model."
   ]
  },
  {
   "cell_type": "code",
   "execution_count": 15,
   "metadata": {},
   "outputs": [
    {
     "name": "stderr",
     "output_type": "stream",
     "text": [
      "c:\\Users\\Freark\\miniconda3\\envs\\ML\\Lib\\site-packages\\sklearn\\neural_network\\_multilayer_perceptron.py:691: ConvergenceWarning: Stochastic Optimizer: Maximum iterations (200) reached and the optimization hasn't converged yet.\n",
      "  warnings.warn(\n"
     ]
    }
   ],
   "source": [
    "from sklearn.preprocessing import MinMaxScaler\n",
    "\n",
    "minMaxScaler = MinMaxScaler()\n",
    "\n",
    "# Train\n",
    "pipe_minmax = Pipeline([(\"scaler\", minMaxScaler), (\"model\", model)])\n",
    "pipe_minmax.fit(X_train, y_train)\n",
    "y_pred = pipe_minmax.predict(X_test)"
   ]
  },
  {
   "cell_type": "code",
   "execution_count": 16,
   "metadata": {},
   "outputs": [
    {
     "name": "stdout",
     "output_type": "stream",
     "text": [
      "Test scores:\n",
      "Accuracy: 0.7627118644067796\n",
      "precision_score: 0.7674418604651163\n",
      "recall_score: 0.8918918918918919\n",
      "f1_score: 0.825\n",
      "---\n",
      "[[12 10]\n",
      " [ 4 33]]\n",
      "---\n",
      "Cross-val scores:\n"
     ]
    },
    {
     "name": "stderr",
     "output_type": "stream",
     "text": [
      "c:\\Users\\Freark\\miniconda3\\envs\\ML\\Lib\\site-packages\\sklearn\\neural_network\\_multilayer_perceptron.py:691: ConvergenceWarning: Stochastic Optimizer: Maximum iterations (200) reached and the optimization hasn't converged yet.\n",
      "  warnings.warn(\n",
      "c:\\Users\\Freark\\miniconda3\\envs\\ML\\Lib\\site-packages\\sklearn\\neural_network\\_multilayer_perceptron.py:691: ConvergenceWarning: Stochastic Optimizer: Maximum iterations (200) reached and the optimization hasn't converged yet.\n",
      "  warnings.warn(\n",
      "c:\\Users\\Freark\\miniconda3\\envs\\ML\\Lib\\site-packages\\sklearn\\neural_network\\_multilayer_perceptron.py:691: ConvergenceWarning: Stochastic Optimizer: Maximum iterations (200) reached and the optimization hasn't converged yet.\n",
      "  warnings.warn(\n",
      "c:\\Users\\Freark\\miniconda3\\envs\\ML\\Lib\\site-packages\\sklearn\\neural_network\\_multilayer_perceptron.py:691: ConvergenceWarning: Stochastic Optimizer: Maximum iterations (200) reached and the optimization hasn't converged yet.\n",
      "  warnings.warn(\n"
     ]
    },
    {
     "name": "stdout",
     "output_type": "stream",
     "text": [
      "[0.8        0.86842105 0.80519481 0.75324675 0.74285714]\n",
      "0.7939439507860561 - 0.04466815417774877\n"
     ]
    },
    {
     "name": "stderr",
     "output_type": "stream",
     "text": [
      "c:\\Users\\Freark\\miniconda3\\envs\\ML\\Lib\\site-packages\\sklearn\\neural_network\\_multilayer_perceptron.py:691: ConvergenceWarning: Stochastic Optimizer: Maximum iterations (200) reached and the optimization hasn't converged yet.\n",
      "  warnings.warn(\n"
     ]
    }
   ],
   "source": [
    "# Eval\n",
    "\n",
    "print(\"Test scores:\")\n",
    "print(\"Accuracy:\", accuracy_score(y_test, y_pred))\n",
    "print(\"precision_score:\", precision_score(y_test, y_pred))\n",
    "print(\"recall_score:\", recall_score(y_test, y_pred))\n",
    "print(\"f1_score:\", f1_score(y_test, y_pred))\n",
    "print(\"---\")\n",
    "print(confusion_matrix(y_test, y_pred))\n",
    "print(\"---\")\n",
    "print(\"Cross-val scores:\")\n",
    "\n",
    "cv = StratifiedKFold(n_splits=5, shuffle=True, random_state=42)\n",
    "cv_scores = cross_val_score(pipe_minmax, X, y, cv=cv, scoring=\"f1\")\n",
    "\n",
    "print(cv_scores)\n",
    "print(f\"{cv_scores.mean()} - {cv_scores.std()}\")"
   ]
  },
  {
   "cell_type": "markdown",
   "metadata": {},
   "source": [
    "### 4) Standardized-Scaler model."
   ]
  },
  {
   "cell_type": "code",
   "execution_count": 17,
   "metadata": {},
   "outputs": [
    {
     "name": "stderr",
     "output_type": "stream",
     "text": [
      "c:\\Users\\Freark\\miniconda3\\envs\\ML\\Lib\\site-packages\\sklearn\\neural_network\\_multilayer_perceptron.py:691: ConvergenceWarning: Stochastic Optimizer: Maximum iterations (200) reached and the optimization hasn't converged yet.\n",
      "  warnings.warn(\n"
     ]
    }
   ],
   "source": [
    "from sklearn.preprocessing import StandardScaler\n",
    "\n",
    "stdScaler = StandardScaler()\n",
    "\n",
    "# Train\n",
    "pipe_standard = Pipeline([(\"scaler\", stdScaler), (\"model\", model)])\n",
    "pipe_standard.fit(X_train, y_train)\n",
    "y_pred = pipe_standard.predict(X_test)"
   ]
  },
  {
   "cell_type": "code",
   "execution_count": 18,
   "metadata": {},
   "outputs": [
    {
     "name": "stdout",
     "output_type": "stream",
     "text": [
      "Test scores:\n",
      "Accuracy: 0.7627118644067796\n",
      "precision_score: 0.7555555555555555\n",
      "recall_score: 0.918918918918919\n",
      "f1_score: 0.8292682926829268\n",
      "---\n",
      "[[11 11]\n",
      " [ 3 34]]\n",
      "---\n",
      "Cross-val scores:\n"
     ]
    },
    {
     "name": "stderr",
     "output_type": "stream",
     "text": [
      "c:\\Users\\Freark\\miniconda3\\envs\\ML\\Lib\\site-packages\\sklearn\\neural_network\\_multilayer_perceptron.py:691: ConvergenceWarning: Stochastic Optimizer: Maximum iterations (200) reached and the optimization hasn't converged yet.\n",
      "  warnings.warn(\n",
      "c:\\Users\\Freark\\miniconda3\\envs\\ML\\Lib\\site-packages\\sklearn\\neural_network\\_multilayer_perceptron.py:691: ConvergenceWarning: Stochastic Optimizer: Maximum iterations (200) reached and the optimization hasn't converged yet.\n",
      "  warnings.warn(\n",
      "c:\\Users\\Freark\\miniconda3\\envs\\ML\\Lib\\site-packages\\sklearn\\neural_network\\_multilayer_perceptron.py:691: ConvergenceWarning: Stochastic Optimizer: Maximum iterations (200) reached and the optimization hasn't converged yet.\n",
      "  warnings.warn(\n",
      "c:\\Users\\Freark\\miniconda3\\envs\\ML\\Lib\\site-packages\\sklearn\\neural_network\\_multilayer_perceptron.py:691: ConvergenceWarning: Stochastic Optimizer: Maximum iterations (200) reached and the optimization hasn't converged yet.\n",
      "  warnings.warn(\n"
     ]
    },
    {
     "name": "stdout",
     "output_type": "stream",
     "text": [
      "[0.88       0.84615385 0.80519481 0.74666667 0.83544304]\n",
      "0.8226916711980004 - 0.04490714239925179\n"
     ]
    },
    {
     "name": "stderr",
     "output_type": "stream",
     "text": [
      "c:\\Users\\Freark\\miniconda3\\envs\\ML\\Lib\\site-packages\\sklearn\\neural_network\\_multilayer_perceptron.py:691: ConvergenceWarning: Stochastic Optimizer: Maximum iterations (200) reached and the optimization hasn't converged yet.\n",
      "  warnings.warn(\n"
     ]
    }
   ],
   "source": [
    "# Eval\n",
    "\n",
    "print(\"Test scores:\")\n",
    "print(\"Accuracy:\", accuracy_score(y_test, y_pred))\n",
    "print(\"precision_score:\", precision_score(y_test, y_pred))\n",
    "print(\"recall_score:\", recall_score(y_test, y_pred))\n",
    "print(\"f1_score:\", f1_score(y_test, y_pred))\n",
    "print(\"---\")\n",
    "print(confusion_matrix(y_test, y_pred))\n",
    "print(\"---\")\n",
    "print(\"Cross-val scores:\")\n",
    "\n",
    "cv = StratifiedKFold(n_splits=5, shuffle=True, random_state=42)\n",
    "cv_scores = cross_val_score(pipe_standard, X, y, cv=cv, scoring=\"f1\")\n",
    "\n",
    "print(cv_scores)\n",
    "print(f\"{cv_scores.mean()} - {cv_scores.std()}\")"
   ]
  },
  {
   "cell_type": "markdown",
   "metadata": {},
   "source": [
    "### 5) Baseline model - Feature Selection"
   ]
  },
  {
   "cell_type": "code",
   "execution_count": 19,
   "metadata": {},
   "outputs": [
    {
     "name": "stderr",
     "output_type": "stream",
     "text": [
      "c:\\Users\\Freark\\miniconda3\\envs\\ML\\Lib\\site-packages\\sklearn\\neural_network\\_multilayer_perceptron.py:691: ConvergenceWarning: Stochastic Optimizer: Maximum iterations (200) reached and the optimization hasn't converged yet.\n",
      "  warnings.warn(\n"
     ]
    }
   ],
   "source": [
    "from sklearn.feature_selection import SelectKBest, chi2\n",
    "\n",
    "# Preprocessing\n",
    "X_feature = SelectKBest(chi2).fit_transform(X, y)\n",
    "X_train_feature, X_test_feature, y_train_feature, y_test_feature = train_test_split(X_feature, y, test_size=0.2, random_state=42, stratify=y)\n",
    "\n",
    "# Train\n",
    "pipe_feature = Pipeline([(\"model\", model)])\n",
    "pipe_feature.fit(X_train_feature, y_train_feature)\n",
    "y_pred = pipe_feature.predict(X_test_feature)"
   ]
  },
  {
   "cell_type": "code",
   "execution_count": 20,
   "metadata": {},
   "outputs": [
    {
     "name": "stdout",
     "output_type": "stream",
     "text": [
      "Test scores:\n",
      "Accuracy: 0.8135593220338984\n",
      "precision_score: 0.7954545454545454\n",
      "recall_score: 0.9459459459459459\n",
      "f1_score: 0.8641975308641975\n",
      "---\n",
      "[[13  9]\n",
      " [ 2 35]]\n",
      "---\n",
      "Cross-val scores:\n"
     ]
    },
    {
     "name": "stderr",
     "output_type": "stream",
     "text": [
      "c:\\Users\\Freark\\miniconda3\\envs\\ML\\Lib\\site-packages\\sklearn\\neural_network\\_multilayer_perceptron.py:691: ConvergenceWarning: Stochastic Optimizer: Maximum iterations (200) reached and the optimization hasn't converged yet.\n",
      "  warnings.warn(\n",
      "c:\\Users\\Freark\\miniconda3\\envs\\ML\\Lib\\site-packages\\sklearn\\neural_network\\_multilayer_perceptron.py:691: ConvergenceWarning: Stochastic Optimizer: Maximum iterations (200) reached and the optimization hasn't converged yet.\n",
      "  warnings.warn(\n",
      "c:\\Users\\Freark\\miniconda3\\envs\\ML\\Lib\\site-packages\\sklearn\\neural_network\\_multilayer_perceptron.py:691: ConvergenceWarning: Stochastic Optimizer: Maximum iterations (200) reached and the optimization hasn't converged yet.\n",
      "  warnings.warn(\n"
     ]
    },
    {
     "name": "stdout",
     "output_type": "stream",
     "text": [
      "[0.79487179 0.83333333 0.83950617 0.73972603 0.76315789]\n",
      "0.7941190446357472 - 0.03876986356676732\n"
     ]
    }
   ],
   "source": [
    "# Eval\n",
    "\n",
    "print(\"Test scores:\")\n",
    "print(\"Accuracy:\", accuracy_score(y_test_feature, y_pred))\n",
    "print(\"precision_score:\", precision_score(y_test_feature, y_pred))\n",
    "print(\"recall_score:\", recall_score(y_test_feature, y_pred))\n",
    "print(\"f1_score:\", f1_score(y_test_feature, y_pred))\n",
    "print(\"---\")\n",
    "print(confusion_matrix(y_test_feature, y_pred))\n",
    "print(\"---\")\n",
    "print(\"Cross-val scores:\")\n",
    "\n",
    "cv = StratifiedKFold(n_splits=5, shuffle=True, random_state=42)\n",
    "cv_scores = cross_val_score(pipe_feature, X_feature, y, cv=cv, scoring=\"f1\")\n",
    "\n",
    "print(cv_scores)\n",
    "print(f\"{cv_scores.mean()} - {cv_scores.std()}\")"
   ]
  },
  {
   "cell_type": "markdown",
   "metadata": {},
   "source": [
    "### 6) Baseline model - Hyperparameter optimalization"
   ]
  },
  {
   "cell_type": "code",
   "execution_count": 21,
   "metadata": {},
   "outputs": [
    {
     "name": "stdout",
     "output_type": "stream",
     "text": [
      "Fitting 5 folds for each of 648 candidates, totalling 3240 fits\n",
      "{'model__activation': 'identity', 'model__hidden_layer_sizes': (50,), 'model__max_iter': 100, 'model__solver': 'adam'}\n",
      "0.8181536626793393\n"
     ]
    },
    {
     "name": "stderr",
     "output_type": "stream",
     "text": [
      "c:\\Users\\Freark\\miniconda3\\envs\\ML\\Lib\\site-packages\\sklearn\\neural_network\\_multilayer_perceptron.py:691: ConvergenceWarning: Stochastic Optimizer: Maximum iterations (100) reached and the optimization hasn't converged yet.\n",
      "  warnings.warn(\n"
     ]
    }
   ],
   "source": [
    "from sklearn.model_selection import GridSearchCV\n",
    "\n",
    "# Grid Search\n",
    "\n",
    "param_grid = {\n",
    "    \"model__hidden_layer_sizes\": [(10,), (25,), (50,), (75,), (100,), (150,)],\n",
    "    \"model__activation\": [\"identity\", \"logistic\", \"tanh\", \"relu\"],\n",
    "    \"model__solver\": [\"lbfgs\", \"sgd\", \"adam\"],\n",
    "    \"model__max_iter\": range(50, 500, 50)\n",
    "}\n",
    "\n",
    "gridsearch = GridSearchCV(pipe_feature, param_grid, n_jobs=-1, scoring=\"f1\", verbose=5)\n",
    "gridsearch.fit(X_train_feature, y_train_feature)\n",
    "\n",
    "print(gridsearch.best_params_)\n",
    "print(gridsearch.best_score_)\n",
    "\n",
    "best_model = gridsearch.best_estimator_\n",
    "\n",
    "y_pred = best_model.predict(X_test_feature)"
   ]
  },
  {
   "cell_type": "code",
   "execution_count": 22,
   "metadata": {},
   "outputs": [
    {
     "name": "stderr",
     "output_type": "stream",
     "text": [
      "c:\\Users\\Freark\\miniconda3\\envs\\ML\\Lib\\site-packages\\sklearn\\neural_network\\_multilayer_perceptron.py:691: ConvergenceWarning: Stochastic Optimizer: Maximum iterations (100) reached and the optimization hasn't converged yet.\n",
      "  warnings.warn(\n"
     ]
    },
    {
     "name": "stdout",
     "output_type": "stream",
     "text": [
      "Test scores:\n",
      "Accuracy: 0.7966101694915254\n",
      "precision_score: 0.8048780487804879\n",
      "recall_score: 0.8918918918918919\n",
      "f1_score: 0.8461538461538461\n",
      "---\n",
      "[[14  8]\n",
      " [ 4 33]]\n",
      "---\n",
      "Cross-val scores:\n"
     ]
    },
    {
     "name": "stderr",
     "output_type": "stream",
     "text": [
      "c:\\Users\\Freark\\miniconda3\\envs\\ML\\Lib\\site-packages\\sklearn\\neural_network\\_multilayer_perceptron.py:691: ConvergenceWarning: Stochastic Optimizer: Maximum iterations (100) reached and the optimization hasn't converged yet.\n",
      "  warnings.warn(\n",
      "c:\\Users\\Freark\\miniconda3\\envs\\ML\\Lib\\site-packages\\sklearn\\neural_network\\_multilayer_perceptron.py:691: ConvergenceWarning: Stochastic Optimizer: Maximum iterations (100) reached and the optimization hasn't converged yet.\n",
      "  warnings.warn(\n"
     ]
    },
    {
     "name": "stdout",
     "output_type": "stream",
     "text": [
      "[0.77333333 0.84210526 0.87671233 0.78378378 0.8       ]\n",
      "0.8151869418084271 - 0.038674268816592285\n"
     ]
    },
    {
     "name": "stderr",
     "output_type": "stream",
     "text": [
      "c:\\Users\\Freark\\miniconda3\\envs\\ML\\Lib\\site-packages\\sklearn\\neural_network\\_multilayer_perceptron.py:691: ConvergenceWarning: Stochastic Optimizer: Maximum iterations (100) reached and the optimization hasn't converged yet.\n",
      "  warnings.warn(\n"
     ]
    }
   ],
   "source": [
    "# Eval\n",
    "\n",
    "print(\"Test scores:\")\n",
    "print(\"Accuracy:\", accuracy_score(y_test_feature, y_pred))\n",
    "print(\"precision_score:\", precision_score(y_test_feature, y_pred))\n",
    "print(\"recall_score:\", recall_score(y_test_feature, y_pred))\n",
    "print(\"f1_score:\", f1_score(y_test_feature, y_pred))\n",
    "print(\"---\")\n",
    "print(confusion_matrix(y_test_feature, y_pred))\n",
    "print(\"---\")\n",
    "print(\"Cross-val scores:\")\n",
    "\n",
    "cv = StratifiedKFold(n_splits=5, shuffle=True, random_state=42)\n",
    "cv_scores = cross_val_score(best_model, X_feature, y, cv=cv, scoring=\"f1\")\n",
    "\n",
    "print(cv_scores)\n",
    "print(f\"{cv_scores.mean()} - {cv_scores.std()}\")"
   ]
  }
 ],
 "metadata": {
  "kernelspec": {
   "display_name": "ML",
   "language": "python",
   "name": "python3"
  },
  "language_info": {
   "codemirror_mode": {
    "name": "ipython",
    "version": 3
   },
   "file_extension": ".py",
   "mimetype": "text/x-python",
   "name": "python",
   "nbconvert_exporter": "python",
   "pygments_lexer": "ipython3",
   "version": "3.13.1"
  }
 },
 "nbformat": 4,
 "nbformat_minor": 2
}
