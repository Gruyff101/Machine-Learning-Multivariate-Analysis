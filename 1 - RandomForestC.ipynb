{
 "cells": [
  {
   "cell_type": "markdown",
   "metadata": {},
   "source": [
    "### 1) Pre-processing of the data."
   ]
  },
  {
   "cell_type": "code",
   "execution_count": 11,
   "metadata": {},
   "outputs": [],
   "source": [
    "import pandas as pd\n",
    "from sklearn.model_selection import train_test_split, cross_val_score, StratifiedKFold\n",
    "from sklearn.metrics import accuracy_score, precision_score, recall_score, f1_score, confusion_matrix, roc_curve, auc\n",
    "from sklearn.pipeline import Pipeline\n",
    "from sklearn.ensemble import RandomForestClassifier\n",
    "\n",
    "# Load & Pre-process\n",
    "df = pd.read_csv(\"JGM.csv\")\n",
    "df = df.drop(columns=[\"team_nr\", \"tijd\"])\n",
    "df[\"gehaald\"] = df[\"gehaald\"].map({1: 0, 2: 1})\n",
    "\n",
    "X = df.drop(\"gehaald\", axis=1)\n",
    "y = df[\"gehaald\"]\n",
    "\n",
    "# Split\n",
    "X_train, X_test, y_train, y_test = train_test_split(X, y, test_size=0.2, random_state=42, stratify=y)"
   ]
  },
  {
   "cell_type": "markdown",
   "metadata": {},
   "source": [
    "### 2) Baseline model."
   ]
  },
  {
   "cell_type": "code",
   "execution_count": 12,
   "metadata": {},
   "outputs": [],
   "source": [
    "# Train\n",
    "model = RandomForestClassifier(random_state=42)\n",
    "\n",
    "pipe_base = Pipeline([(\"model\", model)])\n",
    "pipe_base.fit(X_train, y_train)\n",
    "y_pred = pipe_base.predict(X_test)"
   ]
  },
  {
   "cell_type": "code",
   "execution_count": 13,
   "metadata": {},
   "outputs": [
    {
     "name": "stdout",
     "output_type": "stream",
     "text": [
      "Test scores:\n",
      "Accuracy: 0.7966101694915254\n",
      "precision_score: 0.8048780487804879\n",
      "recall_score: 0.8918918918918919\n",
      "f1_score: 0.8461538461538461\n",
      "---\n",
      "[[14  8]\n",
      " [ 4 33]]\n",
      "---\n",
      "Cross-val scores:\n",
      "[0.81578947 0.84615385 0.85714286 0.75324675 0.82051282]\n",
      "0.8185691501480974 - 0.03613133354227177\n"
     ]
    }
   ],
   "source": [
    "# Eval\n",
    "\n",
    "print(\"Test scores:\")\n",
    "print(\"Accuracy:\", accuracy_score(y_test, y_pred))\n",
    "print(\"precision_score:\", precision_score(y_test, y_pred))\n",
    "print(\"recall_score:\", recall_score(y_test, y_pred))\n",
    "print(\"f1_score:\", f1_score(y_test, y_pred))\n",
    "print(\"---\")\n",
    "print(confusion_matrix(y_test, y_pred))\n",
    "print(\"---\")\n",
    "print(\"Cross-val scores:\")\n",
    "\n",
    "cv = StratifiedKFold(n_splits=5, shuffle=True, random_state=42)\n",
    "cv_scores = cross_val_score(model, X, y, cv=cv, scoring=\"f1\")\n",
    "\n",
    "print(cv_scores)\n",
    "print(f\"{cv_scores.mean()} - {cv_scores.std()}\")"
   ]
  },
  {
   "cell_type": "markdown",
   "metadata": {},
   "source": [
    "### 3) MinMax-Scaler model."
   ]
  },
  {
   "cell_type": "code",
   "execution_count": 14,
   "metadata": {},
   "outputs": [],
   "source": [
    "from sklearn.preprocessing import MinMaxScaler\n",
    "\n",
    "minMaxScaler = MinMaxScaler()\n",
    "\n",
    "# Train\n",
    "pipe_minmax = Pipeline([(\"scaler\", minMaxScaler), (\"model\", model)])\n",
    "pipe_minmax.fit(X_train, y_train)\n",
    "y_pred = pipe_minmax.predict(X_test)"
   ]
  },
  {
   "cell_type": "code",
   "execution_count": 15,
   "metadata": {},
   "outputs": [
    {
     "name": "stdout",
     "output_type": "stream",
     "text": [
      "Test scores:\n",
      "Accuracy: 0.7966101694915254\n",
      "precision_score: 0.8048780487804879\n",
      "recall_score: 0.8918918918918919\n",
      "f1_score: 0.8461538461538461\n",
      "---\n",
      "[[14  8]\n",
      " [ 4 33]]\n",
      "---\n",
      "Cross-val scores:\n",
      "[0.81578947 0.84615385 0.85714286 0.75324675 0.82051282]\n",
      "0.8185691501480974 - 0.03613133354227177\n"
     ]
    }
   ],
   "source": [
    "# Eval\n",
    "\n",
    "print(\"Test scores:\")\n",
    "print(\"Accuracy:\", accuracy_score(y_test, y_pred))\n",
    "print(\"precision_score:\", precision_score(y_test, y_pred))\n",
    "print(\"recall_score:\", recall_score(y_test, y_pred))\n",
    "print(\"f1_score:\", f1_score(y_test, y_pred))\n",
    "print(\"---\")\n",
    "print(confusion_matrix(y_test, y_pred))\n",
    "print(\"---\")\n",
    "print(\"Cross-val scores:\")\n",
    "\n",
    "cv = StratifiedKFold(n_splits=5, shuffle=True, random_state=42)\n",
    "cv_scores = cross_val_score(pipe_minmax, X, y, cv=cv, scoring=\"f1\")\n",
    "\n",
    "print(cv_scores)\n",
    "print(f\"{cv_scores.mean()} - {cv_scores.std()}\")"
   ]
  },
  {
   "cell_type": "markdown",
   "metadata": {},
   "source": [
    "### 4) Standardized-Scaler model."
   ]
  },
  {
   "cell_type": "code",
   "execution_count": 16,
   "metadata": {},
   "outputs": [],
   "source": [
    "from sklearn.preprocessing import StandardScaler\n",
    "\n",
    "stdScaler = StandardScaler()\n",
    "\n",
    "# Train\n",
    "pipe_standard = Pipeline([(\"scaler\", stdScaler), (\"model\", model)])\n",
    "pipe_standard.fit(X_train, y_train)\n",
    "y_pred = pipe_standard.predict(X_test)"
   ]
  },
  {
   "cell_type": "code",
   "execution_count": 17,
   "metadata": {},
   "outputs": [
    {
     "name": "stdout",
     "output_type": "stream",
     "text": [
      "Test scores:\n",
      "Accuracy: 0.7966101694915254\n",
      "precision_score: 0.8048780487804879\n",
      "recall_score: 0.8918918918918919\n",
      "f1_score: 0.8461538461538461\n",
      "---\n",
      "[[14  8]\n",
      " [ 4 33]]\n",
      "---\n",
      "Cross-val scores:\n",
      "[0.80519481 0.84615385 0.85714286 0.75324675 0.82051282]\n",
      "0.8164502164502165 - 0.03654056217224949\n"
     ]
    }
   ],
   "source": [
    "# Eval\n",
    "\n",
    "print(\"Test scores:\")\n",
    "print(\"Accuracy:\", accuracy_score(y_test, y_pred))\n",
    "print(\"precision_score:\", precision_score(y_test, y_pred))\n",
    "print(\"recall_score:\", recall_score(y_test, y_pred))\n",
    "print(\"f1_score:\", f1_score(y_test, y_pred))\n",
    "print(\"---\")\n",
    "print(confusion_matrix(y_test, y_pred))\n",
    "print(\"---\")\n",
    "print(\"Cross-val scores:\")\n",
    "\n",
    "cv = StratifiedKFold(n_splits=5, shuffle=True, random_state=42)\n",
    "cv_scores = cross_val_score(pipe_standard, X, y, cv=cv, scoring=\"f1\")\n",
    "\n",
    "print(cv_scores)\n",
    "print(f\"{cv_scores.mean()} - {cv_scores.std()}\")"
   ]
  },
  {
   "cell_type": "markdown",
   "metadata": {},
   "source": [
    "### 5) Baseline model - Feature Selection"
   ]
  },
  {
   "cell_type": "code",
   "execution_count": 18,
   "metadata": {},
   "outputs": [],
   "source": [
    "from sklearn.feature_selection import SelectKBest, chi2\n",
    "\n",
    "# Preprocessing\n",
    "X_feature = SelectKBest(chi2).fit_transform(X, y)\n",
    "X_train_feature, X_test_feature, y_train_feature, y_test_feature = train_test_split(X_feature, y, test_size=0.2, random_state=42, stratify=y)\n",
    "\n",
    "# Train\n",
    "pipe_feature = Pipeline([(\"model\", model)])\n",
    "pipe_feature.fit(X_train_feature, y_train_feature)\n",
    "y_pred = pipe_feature.predict(X_test_feature)"
   ]
  },
  {
   "cell_type": "code",
   "execution_count": 19,
   "metadata": {},
   "outputs": [
    {
     "name": "stdout",
     "output_type": "stream",
     "text": [
      "Test scores:\n",
      "Accuracy: 0.8813559322033898\n",
      "precision_score: 0.8947368421052632\n",
      "recall_score: 0.918918918918919\n",
      "f1_score: 0.9066666666666666\n",
      "---\n",
      "[[18  4]\n",
      " [ 3 34]]\n",
      "---\n",
      "Cross-val scores:\n",
      "[0.81578947 0.83116883 0.83116883 0.83783784 0.84057971]\n",
      "0.8313089368009277 - 0.008596124495992586\n"
     ]
    }
   ],
   "source": [
    "# Eval\n",
    "\n",
    "print(\"Test scores:\")\n",
    "print(\"Accuracy:\", accuracy_score(y_test_feature, y_pred))\n",
    "print(\"precision_score:\", precision_score(y_test_feature, y_pred))\n",
    "print(\"recall_score:\", recall_score(y_test_feature, y_pred))\n",
    "print(\"f1_score:\", f1_score(y_test_feature, y_pred))\n",
    "print(\"---\")\n",
    "print(confusion_matrix(y_test_feature, y_pred))\n",
    "print(\"---\")\n",
    "print(\"Cross-val scores:\")\n",
    "\n",
    "cv = StratifiedKFold(n_splits=5, shuffle=True, random_state=42)\n",
    "cv_scores = cross_val_score(pipe_feature, X_feature, y, cv=cv, scoring=\"f1\")\n",
    "\n",
    "print(cv_scores)\n",
    "print(f\"{cv_scores.mean()} - {cv_scores.std()}\")"
   ]
  },
  {
   "cell_type": "markdown",
   "metadata": {},
   "source": [
    "### 6) Baseline, feature-selected, model - Hyperparameter optimalization"
   ]
  },
  {
   "cell_type": "code",
   "execution_count": 20,
   "metadata": {},
   "outputs": [
    {
     "name": "stdout",
     "output_type": "stream",
     "text": [
      "Fitting 5 folds for each of 3600 candidates, totalling 18000 fits\n",
      "{'model__max_depth': 2, 'model__min_samples_leaf': 1, 'model__min_samples_split': 2, 'model__n_estimators': 210}\n",
      "0.8226294962958555\n"
     ]
    }
   ],
   "source": [
    "from sklearn.model_selection import GridSearchCV\n",
    "import numpy as np\n",
    "\n",
    "# Grid Search\n",
    "param_grid = {\n",
    "    \"model__n_estimators\": range(10, 250, 50),\n",
    "    \"model__max_depth\": range(2, 50, 5),\n",
    "    \"model__min_samples_split\": range(2, 10),\n",
    "    \"model__min_samples_leaf\": range(1, 10)\n",
    "}\n",
    "\n",
    "gridsearch = GridSearchCV(pipe_feature, param_grid, n_jobs=-1, scoring=\"f1\", verbose=5)\n",
    "gridsearch.fit(X_train_feature, y_train_feature)\n",
    "\n",
    "print(gridsearch.best_params_)\n",
    "print(gridsearch.best_score_)\n",
    "\n",
    "best_model = gridsearch.best_estimator_\n",
    "\n",
    "y_pred = best_model.predict(X_test_feature)"
   ]
  },
  {
   "cell_type": "code",
   "execution_count": 21,
   "metadata": {},
   "outputs": [
    {
     "name": "stdout",
     "output_type": "stream",
     "text": [
      "Test scores:\n",
      "Accuracy: 0.8305084745762712\n",
      "precision_score: 0.8292682926829268\n",
      "recall_score: 0.918918918918919\n",
      "f1_score: 0.8717948717948718\n",
      "---\n",
      "[[15  7]\n",
      " [ 3 34]]\n",
      "---\n",
      "Cross-val scores:\n",
      "[0.81578947 0.83116883 0.85333333 0.78947368 0.83783784]\n",
      "0.8255206320469478 - 0.021685202125245023\n"
     ]
    }
   ],
   "source": [
    "# Eval\n",
    "\n",
    "print(\"Test scores:\")\n",
    "print(\"Accuracy:\", accuracy_score(y_test_feature, y_pred))\n",
    "print(\"precision_score:\", precision_score(y_test_feature, y_pred))\n",
    "print(\"recall_score:\", recall_score(y_test_feature, y_pred))\n",
    "print(\"f1_score:\", f1_score(y_test_feature, y_pred))\n",
    "print(\"---\")\n",
    "print(confusion_matrix(y_test_feature, y_pred))\n",
    "print(\"---\")\n",
    "print(\"Cross-val scores:\")\n",
    "\n",
    "cv = StratifiedKFold(n_splits=5, shuffle=True, random_state=42)\n",
    "cv_scores = cross_val_score(best_model, X_feature, y, cv=cv, scoring=\"f1\")\n",
    "\n",
    "print(cv_scores)\n",
    "print(f\"{cv_scores.mean()} - {cv_scores.std()}\")"
   ]
  }
 ],
 "metadata": {
  "kernelspec": {
   "display_name": "ML",
   "language": "python",
   "name": "python3"
  },
  "language_info": {
   "codemirror_mode": {
    "name": "ipython",
    "version": 3
   },
   "file_extension": ".py",
   "mimetype": "text/x-python",
   "name": "python",
   "nbconvert_exporter": "python",
   "pygments_lexer": "ipython3",
   "version": "3.13.1"
  }
 },
 "nbformat": 4,
 "nbformat_minor": 2
}
