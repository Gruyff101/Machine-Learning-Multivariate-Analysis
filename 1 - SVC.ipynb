{
 "cells": [
  {
   "cell_type": "markdown",
   "metadata": {},
   "source": [
    "### 1) Pre-processing of the data."
   ]
  },
  {
   "cell_type": "code",
   "execution_count": 2,
   "metadata": {},
   "outputs": [],
   "source": [
    "import pandas as pd\n",
    "from sklearn.model_selection import train_test_split, cross_val_score, StratifiedKFold\n",
    "from sklearn.metrics import accuracy_score, precision_score, recall_score, f1_score, confusion_matrix, roc_curve, auc\n",
    "from sklearn.pipeline import Pipeline\n",
    "from sklearn.svm import SVC\n",
    "\n",
    "# Load & Pre-process\n",
    "df = pd.read_csv(\"JGM.csv\")\n",
    "df = df.drop(columns=[\"team_nr\", \"tijd\"])\n",
    "df[\"gehaald\"] = df[\"gehaald\"].map({1: 0, 2: 1})\n",
    "\n",
    "X = df.drop(\"gehaald\", axis=1)\n",
    "y = df[\"gehaald\"]\n",
    "\n",
    "# Split\n",
    "X_train, X_test, y_train, y_test = train_test_split(X, y, test_size=0.2, random_state=42, stratify=y)"
   ]
  },
  {
   "cell_type": "markdown",
   "metadata": {},
   "source": [
    "### 2) Baseline model."
   ]
  },
  {
   "cell_type": "code",
   "execution_count": 3,
   "metadata": {},
   "outputs": [],
   "source": [
    "# Train\n",
    "model = SVC(random_state=42)\n",
    "\n",
    "pipe_base = Pipeline([(\"model\", model)])\n",
    "pipe_base.fit(X_train, y_train)\n",
    "y_pred = pipe_base.predict(X_test)"
   ]
  },
  {
   "cell_type": "code",
   "execution_count": 4,
   "metadata": {},
   "outputs": [
    {
     "name": "stdout",
     "output_type": "stream",
     "text": [
      "Test scores:\n",
      "Accuracy: 0.6271186440677966\n",
      "precision_score: 0.6271186440677966\n",
      "recall_score: 1.0\n",
      "f1_score: 0.7708333333333334\n",
      "---\n",
      "[[ 0 22]\n",
      " [ 0 37]]\n",
      "---\n",
      "Cross-val scores:\n",
      "[0.77083333 0.76595745 0.77894737 0.76595745 0.76086957]\n",
      "0.7685130321177598 - 0.006094978106998167\n"
     ]
    }
   ],
   "source": [
    "# Eval\n",
    "\n",
    "print(\"Test scores:\")\n",
    "print(\"Accuracy:\", accuracy_score(y_test, y_pred))\n",
    "print(\"precision_score:\", precision_score(y_test, y_pred))\n",
    "print(\"recall_score:\", recall_score(y_test, y_pred))\n",
    "print(\"f1_score:\", f1_score(y_test, y_pred))\n",
    "print(\"---\")\n",
    "print(confusion_matrix(y_test, y_pred))\n",
    "print(\"---\")\n",
    "print(\"Cross-val scores:\")\n",
    "\n",
    "cv = StratifiedKFold(n_splits=5, shuffle=True, random_state=42)\n",
    "cv_scores = cross_val_score(pipe_base, X, y, cv=cv, scoring=\"f1\")\n",
    "\n",
    "print(cv_scores)\n",
    "print(f\"{cv_scores.mean()} - {cv_scores.std()}\")"
   ]
  },
  {
   "cell_type": "markdown",
   "metadata": {},
   "source": [
    "### 3) MinMax-Scaler model."
   ]
  },
  {
   "cell_type": "code",
   "execution_count": 5,
   "metadata": {},
   "outputs": [],
   "source": [
    "from sklearn.preprocessing import MinMaxScaler\n",
    "\n",
    "minMaxScaler = MinMaxScaler()\n",
    "\n",
    "# Train\n",
    "pipe_minmax = Pipeline([(\"scaler\", minMaxScaler), (\"model\", model)])\n",
    "pipe_minmax.fit(X_train, y_train)\n",
    "y_pred = pipe_minmax.predict(X_test)"
   ]
  },
  {
   "cell_type": "code",
   "execution_count": 6,
   "metadata": {},
   "outputs": [
    {
     "name": "stdout",
     "output_type": "stream",
     "text": [
      "Test scores:\n",
      "Accuracy: 0.7796610169491526\n",
      "precision_score: 0.7857142857142857\n",
      "recall_score: 0.8918918918918919\n",
      "f1_score: 0.8354430379746836\n",
      "---\n",
      "[[13  9]\n",
      " [ 4 33]]\n",
      "---\n",
      "Cross-val scores:\n",
      "[0.79487179 0.86075949 0.80519481 0.75949367 0.79452055]\n",
      "0.8029680625137535 - 0.03277725027414578\n"
     ]
    }
   ],
   "source": [
    "# Eval\n",
    "\n",
    "print(\"Test scores:\")\n",
    "print(\"Accuracy:\", accuracy_score(y_test, y_pred))\n",
    "print(\"precision_score:\", precision_score(y_test, y_pred))\n",
    "print(\"recall_score:\", recall_score(y_test, y_pred))\n",
    "print(\"f1_score:\", f1_score(y_test, y_pred))\n",
    "print(\"---\")\n",
    "print(confusion_matrix(y_test, y_pred))\n",
    "print(\"---\")\n",
    "print(\"Cross-val scores:\")\n",
    "\n",
    "cv = StratifiedKFold(n_splits=5, shuffle=True, random_state=42)\n",
    "cv_scores = cross_val_score(pipe_minmax, X, y, cv=cv, scoring=\"f1\")\n",
    "\n",
    "print(cv_scores)\n",
    "print(f\"{cv_scores.mean()} - {cv_scores.std()}\")"
   ]
  },
  {
   "cell_type": "markdown",
   "metadata": {},
   "source": [
    "### 4) Standardized-Scaler model."
   ]
  },
  {
   "cell_type": "code",
   "execution_count": 7,
   "metadata": {},
   "outputs": [],
   "source": [
    "from sklearn.preprocessing import StandardScaler\n",
    "\n",
    "stdScaler = StandardScaler()\n",
    "\n",
    "# Train\n",
    "pipe_standard = Pipeline([(\"scaler\", stdScaler), (\"model\", model)])\n",
    "pipe_standard.fit(X_train, y_train)\n",
    "y_pred = pipe_standard.predict(X_test)"
   ]
  },
  {
   "cell_type": "code",
   "execution_count": 8,
   "metadata": {},
   "outputs": [
    {
     "name": "stdout",
     "output_type": "stream",
     "text": [
      "Test scores:\n",
      "Accuracy: 0.7966101694915254\n",
      "precision_score: 0.8048780487804879\n",
      "recall_score: 0.8918918918918919\n",
      "f1_score: 0.8461538461538461\n",
      "---\n",
      "[[14  8]\n",
      " [ 4 33]]\n",
      "---\n",
      "Cross-val scores:\n",
      "[0.82051282 0.85       0.80519481 0.75949367 0.82666667]\n",
      "0.8123735926520738 - 0.03011347419412958\n"
     ]
    }
   ],
   "source": [
    "# Eval\n",
    "\n",
    "print(\"Test scores:\")\n",
    "print(\"Accuracy:\", accuracy_score(y_test, y_pred))\n",
    "print(\"precision_score:\", precision_score(y_test, y_pred))\n",
    "print(\"recall_score:\", recall_score(y_test, y_pred))\n",
    "print(\"f1_score:\", f1_score(y_test, y_pred))\n",
    "print(\"---\")\n",
    "print(confusion_matrix(y_test, y_pred))\n",
    "print(\"---\")\n",
    "print(\"Cross-val scores:\")\n",
    "\n",
    "cv = StratifiedKFold(n_splits=5, shuffle=True, random_state=42)\n",
    "cv_scores = cross_val_score(pipe_standard, X, y, cv=cv, scoring=\"f1\")\n",
    "\n",
    "print(cv_scores)\n",
    "print(f\"{cv_scores.mean()} - {cv_scores.std()}\")"
   ]
  },
  {
   "cell_type": "markdown",
   "metadata": {},
   "source": [
    "### 5) Standardized model - Feature Selection (SelectKBest)"
   ]
  },
  {
   "cell_type": "code",
   "execution_count": 9,
   "metadata": {},
   "outputs": [],
   "source": [
    "from sklearn.feature_selection import SelectKBest, chi2\n",
    "\n",
    "# Preprocessing\n",
    "X_feature = SelectKBest(chi2).fit_transform(X, y)\n",
    "X_train_feature, X_test_feature, y_train_feature, y_test_feature = train_test_split(X_feature, y, test_size=0.2, random_state=42, stratify=y)\n",
    "\n",
    "# Train\n",
    "pipe_feature = Pipeline([(\"scaler\", stdScaler), (\"model\", model)])\n",
    "pipe_feature.fit(X_train_feature, y_train_feature)\n",
    "y_pred = pipe_feature.predict(X_test_feature)"
   ]
  },
  {
   "cell_type": "code",
   "execution_count": 11,
   "metadata": {},
   "outputs": [
    {
     "name": "stdout",
     "output_type": "stream",
     "text": [
      "Test scores:\n",
      "Accuracy: 0.847457627118644\n",
      "precision_score: 0.8181818181818182\n",
      "recall_score: 0.972972972972973\n",
      "f1_score: 0.8888888888888888\n",
      "---\n",
      "[[14  8]\n",
      " [ 1 36]]\n",
      "---\n",
      "Cross-val scores:\n",
      "[0.8        0.86842105 0.86842105 0.80519481 0.86111111]\n",
      "0.8406296043138148 - 0.031210930954354205\n"
     ]
    }
   ],
   "source": [
    "# Eval\n",
    "\n",
    "print(\"Test scores:\")\n",
    "print(\"Accuracy:\", accuracy_score(y_test_feature, y_pred))\n",
    "print(\"precision_score:\", precision_score(y_test_feature, y_pred))\n",
    "print(\"recall_score:\", recall_score(y_test_feature, y_pred))\n",
    "print(\"f1_score:\", f1_score(y_test_feature, y_pred))\n",
    "print(\"---\")\n",
    "print(confusion_matrix(y_test_feature, y_pred))\n",
    "print(\"---\")\n",
    "print(\"Cross-val scores:\")\n",
    "\n",
    "cv = StratifiedKFold(n_splits=5, shuffle=True, random_state=42)\n",
    "cv_scores = cross_val_score(pipe_feature, X_feature, y, cv=cv, scoring=\"f1\")\n",
    "\n",
    "print(cv_scores)\n",
    "print(f\"{cv_scores.mean()} - {cv_scores.std()}\")"
   ]
  },
  {
   "cell_type": "markdown",
   "metadata": {},
   "source": [
    "### 6) Standardized, feature selected, model - Hyperparameter optimalization"
   ]
  },
  {
   "cell_type": "code",
   "execution_count": 12,
   "metadata": {},
   "outputs": [
    {
     "name": "stdout",
     "output_type": "stream",
     "text": [
      "Fitting 5 folds for each of 152 candidates, totalling 760 fits\n",
      "{'model__C': np.float64(1.8000000000000003), 'model__gamma': 'scale', 'model__kernel': 'rbf'}\n",
      "0.8323934525832712\n"
     ]
    }
   ],
   "source": [
    "from sklearn.model_selection import GridSearchCV\n",
    "import numpy as np\n",
    "\n",
    "# Grid Search\n",
    "param_grid = {\n",
    "    \"model__C\": np.arange(0.1, 2.0, 0.1),\n",
    "    \"model__kernel\": [\"linear\", \"poly\", \"rbf\", \"sigmoid\"],\n",
    "    \"model__gamma\": [\"scale\", \"auto\"]\n",
    "}\n",
    "\n",
    "gridsearch = GridSearchCV(pipe_feature, param_grid, n_jobs=-1, scoring=\"f1\", verbose=5)\n",
    "gridsearch.fit(X_train_feature, y_train_feature)\n",
    "\n",
    "print(gridsearch.best_params_)\n",
    "print(gridsearch.best_score_)\n",
    "\n",
    "best_model = gridsearch.best_estimator_\n",
    "\n",
    "y_pred = best_model.predict(X_test_feature)"
   ]
  },
  {
   "cell_type": "code",
   "execution_count": 13,
   "metadata": {},
   "outputs": [
    {
     "name": "stdout",
     "output_type": "stream",
     "text": [
      "Test scores:\n",
      "Accuracy: 0.8135593220338984\n",
      "precision_score: 0.8095238095238095\n",
      "recall_score: 0.918918918918919\n",
      "f1_score: 0.8607594936708861\n",
      "---\n",
      "[[14  8]\n",
      " [ 3 34]]\n",
      "---\n",
      "Cross-val scores:\n",
      "[0.83116883 0.88       0.85714286 0.8        0.85714286]\n",
      "0.8450909090909091 - 0.02733553682701663\n"
     ]
    }
   ],
   "source": [
    "# Eval\n",
    "\n",
    "print(\"Test scores:\")\n",
    "print(\"Accuracy:\", accuracy_score(y_test, y_pred))\n",
    "print(\"precision_score:\", precision_score(y_test, y_pred))\n",
    "print(\"recall_score:\", recall_score(y_test, y_pred))\n",
    "print(\"f1_score:\", f1_score(y_test, y_pred))\n",
    "print(\"---\")\n",
    "print(confusion_matrix(y_test, y_pred))\n",
    "print(\"---\")\n",
    "print(\"Cross-val scores:\")\n",
    "\n",
    "cv = StratifiedKFold(n_splits=5, shuffle=True, random_state=42)\n",
    "cv_scores = cross_val_score(best_model, X_feature, y, cv=cv, scoring=\"f1\")\n",
    "\n",
    "print(cv_scores)\n",
    "print(f\"{cv_scores.mean()} - {cv_scores.std()}\")"
   ]
  }
 ],
 "metadata": {
  "kernelspec": {
   "display_name": "ML",
   "language": "python",
   "name": "python3"
  },
  "language_info": {
   "codemirror_mode": {
    "name": "ipython",
    "version": 3
   },
   "file_extension": ".py",
   "mimetype": "text/x-python",
   "name": "python",
   "nbconvert_exporter": "python",
   "pygments_lexer": "ipython3",
   "version": "3.13.1"
  }
 },
 "nbformat": 4,
 "nbformat_minor": 2
}
